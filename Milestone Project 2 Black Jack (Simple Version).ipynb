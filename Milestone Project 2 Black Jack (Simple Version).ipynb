{
 "cells": [
  {
   "cell_type": "code",
   "execution_count": 1,
   "metadata": {},
   "outputs": [],
   "source": [
    "# HERE GOES A GAME CALLED BLACK JACK WHICH I DON'T REALLY KNOW VERY WELL BUT STILL I WILL TRY MY BEST THANKYOU!!! "
   ]
  },
  {
   "cell_type": "code",
   "execution_count": 11,
   "metadata": {},
   "outputs": [],
   "source": [
    "import random\n",
    "from IPython.display import clear_output\n",
    "\n",
    "suits=('Hearts','Diamonds','Spades','Clubs')\n",
    "ranks=('Two','Three','Four','Five','Six','Seven','Eight','Nine','Ten','Jack','Queen','King','Ace')\n",
    "values={'Two':2,'Three':3,'Four':4,'Five':5,'Six':6,'Seven':7,'Eight':8,'Nine':9,'Ten':10,'Jack':10,'Queen':10,'King':10,'Ace':11}"
   ]
  },
  {
   "cell_type": "code",
   "execution_count": 12,
   "metadata": {},
   "outputs": [],
   "source": [
    "class Card:\n",
    "    def __init__(self,suit,rank):\n",
    "        self.suit = suit\n",
    "        self.rank = rank\n",
    "        self.value = values[rank]\n",
    "        \n",
    "    def __str__(self):\n",
    "        return self.rank + \" of \" + self.suit"
   ]
  },
  {
   "cell_type": "code",
   "execution_count": 13,
   "metadata": {},
   "outputs": [],
   "source": [
    "class Deck:\n",
    "    def __init__(self):\n",
    "        \n",
    "        self.all_cards = []\n",
    "        \n",
    "        for suit in suits:\n",
    "            for rank in ranks:\n",
    "                newcard = Card(suit,rank)\n",
    "                self.all_cards.append(newcard)\n",
    "                \n",
    "    def shuffle(self):\n",
    "        random.shuffle(self.all_cards)\n",
    "        \n",
    "    def deal(self):\n",
    "        return self.all_cards.pop()"
   ]
  },
  {
   "cell_type": "code",
   "execution_count": 14,
   "metadata": {},
   "outputs": [],
   "source": [
    "class Player:\n",
    "    \n",
    "    def __init__(self):\n",
    "        self.cards = []\n",
    "        self.value = 0\n",
    "    \n",
    "    def add_card(self,card):\n",
    "        self.cards.append(card)\n",
    "        self.value += card.value"
   ]
  },
  {
   "cell_type": "code",
   "execution_count": 15,
   "metadata": {},
   "outputs": [],
   "source": [
    "class Chips:\n",
    "    def __init__(self):\n",
    "        self.total = 100\n",
    "        self.bet = 0\n",
    "        \n",
    "    def win_bet(self):\n",
    "        self.total += self.bet\n",
    "        \n",
    "    def lose_bet(self):\n",
    "        self.total -= self.bet\n",
    "        \n",
    "    def set_bet(self,bet):\n",
    "        self.bet = bet"
   ]
  },
  {
   "cell_type": "code",
   "execution_count": 16,
   "metadata": {},
   "outputs": [],
   "source": [
    "def player_busts(self):\n",
    "    self.lose_bet()\n",
    "\n",
    "def player_wins(self):\n",
    "    self.win_bet()\n",
    "\n",
    "def dealer_busts(self):\n",
    "    self.win_bet()\n",
    "\n",
    "def dealer_wins(self):\n",
    "    self.lose_bet()"
   ]
  },
  {
   "cell_type": "code",
   "execution_count": 34,
   "metadata": {},
   "outputs": [],
   "source": [
    "def playagain():\n",
    "    while True:\n",
    "        x=input('Want to play again ? (Y or N) :').upper()\n",
    "        if x=='Y' or x=='N':\n",
    "            break\n",
    "        else:\n",
    "            clear_output()\n",
    "            print(\"Enter Valid Input!!!\")\n",
    "    if x=='Y':\n",
    "        return True\n",
    "    else:\n",
    "        return False"
   ]
  },
  {
   "cell_type": "code",
   "execution_count": 38,
   "metadata": {},
   "outputs": [],
   "source": [
    "def show_cards(self):\n",
    "        for i in range(len(self.cards)):\n",
    "            print(self.cards[i])"
   ]
  },
  {
   "cell_type": "code",
   "execution_count": 35,
   "metadata": {},
   "outputs": [
    {
     "name": "stdout",
     "output_type": "stream",
     "text": [
      "                                         WELCOME TO BLACKJACK\n",
      "Please enter the bet amount here: 10\n",
      "Total value of player's cards is:  18\n",
      "Stand or Hit ? (s or h): s\n",
      "Total value of dealer's cards is:  13\n",
      "Total value of dealer's cards is:  15\n",
      "Total value of dealer's cards is:  21\n",
      "Dealer Wins\n",
      "Your total amount is:  90\n",
      "Want to play again ? (Y or N) :n\n"
     ]
    }
   ],
   "source": [
    "\n",
    "player_chips = Chips()\n",
    "\n",
    "print(\"                                         WELCOME TO BLACKJACK\")\n",
    "\n",
    "while True:\n",
    "\n",
    "    new_deck = Deck()\n",
    "    new_deck.shuffle()\n",
    "\n",
    "    player = Player()\n",
    "\n",
    "    player.add_card(new_deck.deal())\n",
    "    player.add_card(new_deck.deal())\n",
    "\n",
    "    dealer = Player()\n",
    "\n",
    "    dealer.add_card(new_deck.deal())\n",
    "    dealer.add_card(new_deck.deal())\n",
    "    \n",
    "    while True:\n",
    "        min_bet = int(input(\"Please enter the bet amount here: \"))\n",
    "        if min_bet > player_chips.total:\n",
    "            print(\"Tum nalle ho tumhare paas itna paisa nhi hai\")\n",
    "        else:\n",
    "            break\n",
    "\n",
    "    player_chips.set_bet(min_bet)\n",
    "\n",
    "    playing = True\n",
    "\n",
    "    while playing:\n",
    "\n",
    "        print(\"Total value of player's cards is: \",player.value)\n",
    "        stand = True\n",
    "        while stand:\n",
    "            inp = input(\"Stand or Hit ? (s or h): \").upper()\n",
    "            if inp[0] == 'S':\n",
    "                stand = False\n",
    "            elif inp[0] == 'H':\n",
    "                player.add_card(new_deck.deal())\n",
    "                print(\"Total value of player's cards is: \",player.value)\n",
    "                if player.value > 21:\n",
    "                    player_busts(player_chips)\n",
    "                    playing = False\n",
    "                    break\n",
    "        if player.value > 21:\n",
    "            print(\"You got busted\")\n",
    "            break\n",
    "        print(\"Total value of dealer's cards is: \",dealer.value)  \n",
    "        while dealer.value < player.value:\n",
    "            dealer.add_card(new_deck.deal())\n",
    "            print(\"Total value of dealer's cards is: \",dealer.value)\n",
    "        if dealer.value > 21:\n",
    "            dealer_busts(player_chips)\n",
    "            print(\"Dealer got busted\")\n",
    "            playing = False\n",
    "        if player.value < dealer.value and dealer.value <= 21:\n",
    "            dealer_wins(player_chips)\n",
    "            print(\"Dealer Wins\")\n",
    "            playing = False\n",
    "        elif dealer.value < player.value and player.value <= 21:\n",
    "            player_wins(player_chips)\n",
    "            print(\"You Win\")\n",
    "            playing = False\n",
    "    print(\"Your total amount is: \",player_chips.total)\n",
    "    if playagain():\n",
    "        continue\n",
    "    else:\n",
    "        break\n",
    "                    "
   ]
  },
  {
   "cell_type": "code",
   "execution_count": null,
   "metadata": {},
   "outputs": [],
   "source": []
  }
 ],
 "metadata": {
  "kernelspec": {
   "display_name": "Python 3",
   "language": "python",
   "name": "python3"
  },
  "language_info": {
   "codemirror_mode": {
    "name": "ipython",
    "version": 3
   },
   "file_extension": ".py",
   "mimetype": "text/x-python",
   "name": "python",
   "nbconvert_exporter": "python",
   "pygments_lexer": "ipython3",
   "version": "3.7.0"
  }
 },
 "nbformat": 4,
 "nbformat_minor": 4
}
